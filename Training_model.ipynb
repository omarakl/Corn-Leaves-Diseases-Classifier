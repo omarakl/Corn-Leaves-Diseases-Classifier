{
  "nbformat": 4,
  "nbformat_minor": 0,
  "metadata": {
    "colab": {
      "provenance": [],
      "gpuType": "V28"
    },
    "kernelspec": {
      "name": "python3",
      "display_name": "Python 3"
    },
    "language_info": {
      "name": "python"
    },
    "accelerator": "TPU"
  },
  "cells": [
    {
      "cell_type": "code",
      "source": [
        "# importing libraries\n",
        "\n",
        "from tensorflow.keras.preprocessing.image import ImageDataGenerator\n",
        "from tensorflow.keras.applications import MobileNetV2\n",
        "from tensorflow.keras.models import Sequential\n",
        "from tensorflow.keras.layers import Dense, GlobalAveragePooling2D, Dropout\n",
        "from tensorflow.keras.optimizers import Adam\n",
        "from google.colab import drive\n",
        "import os\n",
        "import numpy as np\n",
        "import pandas as pd\n",
        "import matplotlib.pyplot as plt\n",
        "import tensorflow as tf\n",
        "from sklearn.model_selection import train_test_split\n",
        "from tensorflow import keras\n",
        "from tensorflow.keras import layers,models\n",
        "from tensorflow.keras.preprocessing.image import ImageDataGenerator\n",
        "from keras.layers import Dense, Dropout\n",
        "from tensorflow.keras.callbacks import Callback, EarlyStopping,ModelCheckpoint\n",
        "from tensorflow.keras.optimizers import Adam\n",
        "from tensorflow.keras.applications import MobileNetV2\n",
        "from tensorflow.keras import Model\n",
        "from tensorflow.keras.layers.experimental import preprocessing\n",
        "from pathlib import Path\n",
        "import os.path\n",
        "from sklearn.metrics import classification_report, confusion_matrix\n",
        "import itertools"
      ],
      "metadata": {
        "id": "m8k5MmyhsDHW"
      },
      "execution_count": null,
      "outputs": []
    },
    {
      "cell_type": "code",
      "source": [
        "# Mount Google Drive to access the dataset\n",
        "drive.mount('/content/drive')\n",
        "\n",
        "# Set dataset directory (update with your dataset path in Google Drive)\n",
        "dataset_dir = '/content/drive/My Drive/EnhancedModel_MobileNetV2'"
      ],
      "metadata": {
        "colab": {
          "base_uri": "https://localhost:8080/"
        },
        "id": "iCsfXReks_2x",
        "outputId": "f6346d64-9612-4a3e-8246-a71ebc799154"
      },
      "execution_count": null,
      "outputs": [
        {
          "output_type": "stream",
          "name": "stdout",
          "text": [
            "Mounted at /content/drive\n"
          ]
        }
      ]
    },
    {
      "cell_type": "code",
      "source": [
        "train_datagen = ImageDataGenerator(\n",
        "    rescale=1./255,                # Normalize pixel values\n",
        "    rotation_range=15,             # Reduce rotation to realistic range for leaves\n",
        "    width_shift_range=0.1,         # Slight horizontal shift\n",
        "    height_shift_range=0.1,        # Slight vertical shift\n",
        "    shear_range=0.1,               # Reduced shear for natural appearance\n",
        "    zoom_range=0.1,                # Subtle zoom variations\n",
        "    horizontal_flip=True,          # Flipping for mirrored leaf positions\n",
        "    brightness_range=[0.8, 1.2],   # Adjust brightness to simulate lighting conditions\n",
        "    fill_mode='nearest',           # Fill pixels with nearest values\n",
        "    validation_split=0.2           # 20% of data for validation (adjust based on dataset size)\n",
        ")"
      ],
      "metadata": {
        "id": "s2IMDRqCtoJY"
      },
      "execution_count": null,
      "outputs": []
    },
    {
      "cell_type": "code",
      "source": [
        "# Training and validation generators\n",
        "train_generator = train_datagen.flow_from_directory(\n",
        "    '/content/drive/My Drive/EnhancedModel_MobileNetV2/train', # Path to dataset directory\n",
        "    target_size=(224, 224),        # Resize images to match model input size\n",
        "    batch_size=32,                 # Adjust batch size based on GPU memory\n",
        "    class_mode='categorical',      # Use 'categorical' for multi-class classification\n",
        "    subset='training'              # Training subset\n",
        ")"
      ],
      "metadata": {
        "colab": {
          "base_uri": "https://localhost:8080/"
        },
        "id": "koLlHvxvueu5",
        "outputId": "3404d52b-3f9e-4406-93b6-d89e03962407"
      },
      "execution_count": null,
      "outputs": [
        {
          "output_type": "stream",
          "name": "stdout",
          "text": [
            "Found 2466 images belonging to 4 classes.\n"
          ]
        }
      ]
    },
    {
      "cell_type": "code",
      "source": [
        "validation_generator = train_datagen.flow_from_directory(\n",
        "    '/content/drive/My Drive/EnhancedModel_MobileNetV2/val', # Same dataset path\n",
        "    target_size=(224, 224),        # Same size as training\n",
        "    batch_size=32,                 # Match training batch size\n",
        "    class_mode='categorical',      # Ensure consistent class mode\n",
        "    subset='validation'            # Validation subset\n",
        ")"
      ],
      "metadata": {
        "colab": {
          "base_uri": "https://localhost:8080/"
        },
        "id": "Uu1jvYkHwRK5",
        "outputId": "18e80f96-8dff-45e9-e4e6-e69ec69f239a"
      },
      "execution_count": null,
      "outputs": [
        {
          "output_type": "stream",
          "name": "stdout",
          "text": [
            "Found 152 images belonging to 4 classes.\n"
          ]
        }
      ]
    },
    {
      "cell_type": "code",
      "source": [
        "# The base model\n",
        "base_model = MobileNetV2(weights='imagenet', include_top=False, input_shape=(224, 224, 3))"
      ],
      "metadata": {
        "colab": {
          "base_uri": "https://localhost:8080/"
        },
        "id": "biQUgmqJwjKu",
        "outputId": "5a1502ab-0d97-4e9a-bfbc-e985e7772912"
      },
      "execution_count": null,
      "outputs": [
        {
          "output_type": "stream",
          "name": "stdout",
          "text": [
            "Downloading data from https://storage.googleapis.com/tensorflow/keras-applications/mobilenet_v2/mobilenet_v2_weights_tf_dim_ordering_tf_kernels_1.0_224_no_top.h5\n",
            "9406464/9406464 [==============================] - 0s 0us/step\n"
          ]
        }
      ]
    },
    {
      "cell_type": "code",
      "source": [
        "# Freeze the base model layers so they don't get trained\n",
        "base_model.trainable = False"
      ],
      "metadata": {
        "id": "JZ8XMqSvxy95"
      },
      "execution_count": null,
      "outputs": []
    },
    {
      "cell_type": "code",
      "source": [
        "# Build the final model\n",
        "model = Sequential([\n",
        "    base_model,\n",
        "    GlobalAveragePooling2D(),\n",
        "    Dropout(0.5),  # Add dropout to prevent overfitting\n",
        "    Dense(1024, activation='relu'),\n",
        "    Dropout(0.5),\n",
        "    Dense(4, activation='softmax')  # 4 classes: Blight, Common Rust, Gray Leaf Spot, Healthy\n",
        "])\n",
        "\n",
        "from tensorflow.keras.metrics import Precision, Recall\n",
        "\n",
        "model.compile(\n",
        "    optimizer='adam',\n",
        "    loss='categorical_crossentropy',\n",
        "    metrics=['accuracy', Precision(name='precision'), Recall(name='recall')]\n",
        ")\n"
      ],
      "metadata": {
        "id": "EZVgtKMjyZm_"
      },
      "execution_count": null,
      "outputs": []
    },
    {
      "cell_type": "code",
      "source": [
        "from math import ceil\n",
        "from tensorflow.keras.callbacks import EarlyStopping\n",
        "\n",
        "# Define early stopping to monitor validation loss and stop training when it stops improving\n",
        "early_stopping = EarlyStopping(\n",
        "    monitor='val_loss',\n",
        "    patience=5,         # Stop after 5 epochs with no improvement\n",
        "    restore_best_weights=True\n",
        ")\n",
        "\n",
        "# Train the model\n",
        "history = model.fit(\n",
        "    train_generator,\n",
        "    validation_data=validation_generator,\n",
        "    epochs=10,\n",
        "    steps_per_epoch=ceil(train_generator.samples / train_generator.batch_size),\n",
        "    validation_steps=ceil(validation_generator.samples / validation_generator.batch_size),\n",
        "    verbose=1,\n",
        "    callbacks=[early_stopping]  # Add early stopping\n",
        ")"
      ],
      "metadata": {
        "colab": {
          "base_uri": "https://localhost:8080/"
        },
        "id": "I68rtYeGzuCZ",
        "outputId": "a7b6fcfe-5dfe-4b15-d1bc-0300c95a3d5c"
      },
      "execution_count": null,
      "outputs": [
        {
          "output_type": "stream",
          "name": "stdout",
          "text": [
            "Epoch 1/10\n",
            "78/78 [==============================] - 499s 6s/step - loss: 0.4766 - accuracy: 0.8491 - precision: 0.8580 - recall: 0.8427 - val_loss: 0.1730 - val_accuracy: 0.9408 - val_precision: 0.9470 - val_recall: 0.9408\n",
            "Epoch 2/10\n",
            "78/78 [==============================] - 156s 2s/step - loss: 0.3139 - accuracy: 0.8925 - precision: 0.8958 - recall: 0.8889 - val_loss: 0.1985 - val_accuracy: 0.9145 - val_precision: 0.9205 - val_recall: 0.9145\n",
            "Epoch 3/10\n",
            "78/78 [==============================] - 152s 2s/step - loss: 0.2440 - accuracy: 0.9079 - precision: 0.9144 - recall: 0.9051 - val_loss: 0.2048 - val_accuracy: 0.9342 - val_precision: 0.9333 - val_recall: 0.9211\n",
            "Epoch 4/10\n",
            "78/78 [==============================] - 153s 2s/step - loss: 0.2285 - accuracy: 0.9108 - precision: 0.9142 - recall: 0.9075 - val_loss: 0.1971 - val_accuracy: 0.9211 - val_precision: 0.9211 - val_recall: 0.9211\n",
            "Epoch 5/10\n",
            "78/78 [==============================] - 153s 2s/step - loss: 0.2218 - accuracy: 0.9116 - precision: 0.9146 - recall: 0.9075 - val_loss: 0.1659 - val_accuracy: 0.9342 - val_precision: 0.9338 - val_recall: 0.9276\n",
            "Epoch 6/10\n",
            "78/78 [==============================] - 152s 2s/step - loss: 0.2293 - accuracy: 0.9108 - precision: 0.9127 - recall: 0.9075 - val_loss: 0.1490 - val_accuracy: 0.9474 - val_precision: 0.9470 - val_recall: 0.9408\n",
            "Epoch 7/10\n",
            "78/78 [==============================] - 153s 2s/step - loss: 0.1895 - accuracy: 0.9262 - precision: 0.9300 - recall: 0.9213 - val_loss: 0.1301 - val_accuracy: 0.9474 - val_precision: 0.9470 - val_recall: 0.9408\n",
            "Epoch 8/10\n",
            "78/78 [==============================] - 153s 2s/step - loss: 0.2086 - accuracy: 0.9165 - precision: 0.9200 - recall: 0.9136 - val_loss: 0.1435 - val_accuracy: 0.9474 - val_precision: 0.9600 - val_recall: 0.9474\n",
            "Epoch 9/10\n",
            "78/78 [==============================] - 152s 2s/step - loss: 0.1870 - accuracy: 0.9165 - precision: 0.9197 - recall: 0.9144 - val_loss: 0.1368 - val_accuracy: 0.9342 - val_precision: 0.9342 - val_recall: 0.9342\n",
            "Epoch 10/10\n",
            "78/78 [==============================] - 155s 2s/step - loss: 0.1829 - accuracy: 0.9278 - precision: 0.9313 - recall: 0.9242 - val_loss: 0.1683 - val_accuracy: 0.9539 - val_precision: 0.9539 - val_recall: 0.9539\n"
          ]
        }
      ]
    },
    {
      "cell_type": "code",
      "source": [
        "# Save the trained model\n",
        "model.save('/content/drive/My Drive/final_model.h5')"
      ],
      "metadata": {
        "colab": {
          "base_uri": "https://localhost:8080/"
        },
        "id": "LQJ1YC7rE92j",
        "outputId": "e9a26d86-836f-47c8-cf06-62bcef099abe"
      },
      "execution_count": null,
      "outputs": [
        {
          "output_type": "stream",
          "name": "stderr",
          "text": [
            "/usr/local/lib/python3.10/dist-packages/keras/src/engine/training.py:3103: UserWarning: You are saving your model as an HDF5 file via `model.save()`. This file format is considered legacy. We recommend using instead the native Keras format, e.g. `model.save('my_model.keras')`.\n",
            "  saving_api.save_model(\n"
          ]
        }
      ]
    }
  ]
}